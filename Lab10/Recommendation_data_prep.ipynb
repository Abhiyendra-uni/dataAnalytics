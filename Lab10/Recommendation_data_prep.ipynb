{
 "cells": [
  {
   "cell_type": "code",
   "execution_count": 1,
   "id": "4593796e",
   "metadata": {},
   "outputs": [
    {
     "name": "stdout",
     "output_type": "stream",
     "text": [
      "Creating account. Input initial balance: 100\n",
      "??r 23\n",
      "??t 56\n",
      "??r 56\n",
      "??q\n",
      "Statement\n",
      "   event        amount($)    balance\n",
      "Initial balance               100.0\n",
      " Ride            23.0         77.0\n",
      " Top Up          56.0        133.0\n",
      " Ride            56.0         77.0\n"
     ]
    }
   ],
   "source": [
    "# class with methods and variables to operate Go Card account\n",
    "class GoCard():\n",
    "    #constructor\n",
    "    def __init__(self, balance):\n",
    "        self.balance = balance\n",
    "        self.state = [\"{initial:>10}{bal:>20}\".format(initial=\"Initial balance\", bal=balance)]\n",
    "\n",
    "    # method to request the current balance\n",
    "    def curbal(self):\n",
    "        return (self.balance)\n",
    "\n",
    "    #deducts balance\n",
    "    def deduct(self, d):\n",
    "        self.balance = self.balance - d\n",
    "        self.state.append(\"{Ride:>5}{amount:>16}{balance:>13}\".format(\n",
    "            Ride=\"Ride\", amount=d, balance=self.balance))\n",
    "\n",
    "    #top up balance\n",
    "    def topup(self, top):\n",
    "        self.balance = self.balance + top\n",
    "        self.state.append(\"{Ride:>7}{amount:>14}{balance:>13}\".format(\n",
    "            Ride=\"Top Up\", amount=top, balance=self.balance))\n",
    "\n",
    "    #print statement\n",
    "    def statement(self):\n",
    "        print(f\"{'event': >8}\", end=\" \")\n",
    "        print(f\"{'amount($)': >16}\", end=\" \")\n",
    "        print(f\"{'balance': >10}\")\n",
    "        for i in self.state:\n",
    "            print(i)\n",
    "\n",
    "\n",
    "inp = input(\"Creating account. Input initial balance: \")\n",
    "gc = GoCard(float(inp))  #creating instance of GoCard\n",
    "\n",
    "ran = True\n",
    "\n",
    "while ran:\n",
    "    inp = input(\"??\")\n",
    "    x = inp.split()  #split the input into elements\n",
    "    if \"r\" in x and len(x) == 2 and x[0] == \"r\":\n",
    "        gc.deduct(float(x[1]))\n",
    "    elif \"t\" in x and len(x) == 2 and x[0] == \"t\":\n",
    "        gc.topup(float(x[1]))\n",
    "    elif \"b\" in x and len(x) == 1 and x[0] == \"b\":\n",
    "        print(\"Balance: \", gc.curbal())\n",
    "    elif \"q\" in x and len(x)==1 and x[0]==\"q\":\n",
    "        print(\"Statement\")\n",
    "        gc.statement()\n",
    "        ran=False\n",
    "    else:\n",
    "        print(\"Bad Command\")"
   ]
  }
 ],
 "metadata": {
  "kernelspec": {
   "display_name": "Python 3 (ipykernel)",
   "language": "python",
   "name": "python3"
  },
  "language_info": {
   "codemirror_mode": {
    "name": "ipython",
    "version": 3
   },
   "file_extension": ".py",
   "mimetype": "text/x-python",
   "name": "python",
   "nbconvert_exporter": "python",
   "pygments_lexer": "ipython3",
   "version": "3.9.7"
  }
 },
 "nbformat": 4,
 "nbformat_minor": 5
}
